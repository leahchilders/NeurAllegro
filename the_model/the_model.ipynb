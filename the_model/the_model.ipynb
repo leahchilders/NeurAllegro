{
 "cells": [
  {
   "cell_type": "code",
   "execution_count": null,
   "metadata": {},
   "outputs": [],
   "source": [
    "import numpy as np\n",
    "import torch\n",
    "import torch.nn as nn\n",
    "import torch.optim as optim\n",
    "from torch.utils.data import TensorDataset, DataLoader\n",
    "\n",
    "from tqdm import tqdm"
   ]
  },
  {
   "cell_type": "code",
   "execution_count": null,
   "metadata": {},
   "outputs": [],
   "source": [
    "# Load the data after preprocessing. This is how I did it the first time, but this won't work with the current preprocessing pipeline.\n",
    "# train_data = np.load(\"train_data.npz\", allow_pickle=True)\n",
    "# X_train = train_data[\"X\"]\n",
    "# y_train = train_data[\"y\"]\n",
    "# file_names_train = train_data[\"file_names\"]\n",
    "#\n",
    "# test_data = np.load(\"test_data.npz\", allow_pickle=True)\n",
    "# X_test = test_data[\"X\"]\n",
    "# y_test = test_data[\"y\"]\n",
    "# file_names_test = test_data[\"file_names\"]\n",
    "#\n",
    "# val_data = np.load(\"val_data.npz\", allow_pickle=True)\n",
    "# X_val = val_data[\"X\"]\n",
    "# y_val = val_data[\"y\"]\n",
    "# file_names_val = val_data[\"file_names\"]\n"
   ]
  },
  {
   "cell_type": "code",
   "execution_count": null,
   "metadata": {},
   "outputs": [],
   "source": [
    "# Convert data to PyTorch tensors\n",
    "# X_train_t = torch.tensor(X_train, dtype=torch.float32)\n",
    "# X_val_t = torch.tensor(X_val, dtype=torch.float32)\n",
    "#\n",
    "# y_train_t = torch.tensor(y_train, dtype=torch.float32)\n",
    "# y_val_t = torch.tensor(y_val, dtype=torch.float32)\n",
    "#\n",
    "## Create TensorDataset and DataLoader\n",
    "# train_dataset = TensorDataset(X_train_t, y_train_t)\n",
    "# val_dataset = TensorDataset(X_val_t, y_val_t)\n",
    "#\n",
    "# train_loader = DataLoader(train_dataset, batch_size=32, shuffle=True)\n",
    "# val_loader = DataLoader(val_dataset, batch_size=32, shuffle=False)"
   ]
  },
  {
   "cell_type": "code",
   "execution_count": null,
   "metadata": {},
   "outputs": [],
   "source": [
    "class GRUClassifier(nn.Module):\n",
    "    def __init__(self, input_size, hidden_size=64, num_layers=2):\n",
    "        super(GRUClassifier, self).__init__()\n",
    "\n",
    "        self.gru = nn.GRU(\n",
    "            input_size=input_size,\n",
    "            hidden_size=hidden_size,\n",
    "            num_layers=num_layers,\n",
    "            batch_first=True,\n",
    "        )\n",
    "\n",
    "        self.fc = nn.Linear(hidden_size, 1)  # 1 logit for binary classification\n",
    "\n",
    "    def forward(self, x):\n",
    "        out, h_n = self.gru(x)\n",
    "\n",
    "        last_hidden = h_n[-1]\n",
    "\n",
    "        logits = self.fc(last_hidden)\n",
    "        return logits.squeeze(dim=1)"
   ]
  },
  {
   "cell_type": "code",
   "execution_count": null,
   "metadata": {},
   "outputs": [],
   "source": [
    "# Nothing below this will currently run with the new data pipeline\n",
    "model = GRUClassifier(input_size=X_train.shape[2], hidden_size=64, num_layers=2)\n",
    "\n",
    "criterion = nn.BCEWithLogitsLoss()  # for single-logit binary classification\n",
    "optimizer = optim.Adam(model.parameters(), lr=1e-3)"
   ]
  },
  {
   "cell_type": "code",
   "execution_count": null,
   "metadata": {},
   "outputs": [
    {
     "name": "stderr",
     "output_type": "stream",
     "text": [
      "100%|██████████| 52/52 [00:55<00:00,  1.07s/it]\n"
     ]
    },
    {
     "name": "stdout",
     "output_type": "stream",
     "text": [
      "Epoch [1/5], Train Loss: 0.2330, Val Loss: 0.2383, Val Acc: 0.9324\n"
     ]
    },
    {
     "name": "stderr",
     "output_type": "stream",
     "text": [
      "100%|██████████| 52/52 [00:41<00:00,  1.26it/s]\n"
     ]
    },
    {
     "name": "stdout",
     "output_type": "stream",
     "text": [
      "Epoch [2/5], Train Loss: 0.2091, Val Loss: 0.1845, Val Acc: 0.9561\n"
     ]
    },
    {
     "name": "stderr",
     "output_type": "stream",
     "text": [
      "100%|██████████| 52/52 [00:39<00:00,  1.32it/s]\n"
     ]
    },
    {
     "name": "stdout",
     "output_type": "stream",
     "text": [
      "Epoch [3/5], Train Loss: 0.1883, Val Loss: 0.1846, Val Acc: 0.9493\n"
     ]
    },
    {
     "name": "stderr",
     "output_type": "stream",
     "text": [
      "100%|██████████| 52/52 [00:52<00:00,  1.01s/it]\n"
     ]
    },
    {
     "name": "stdout",
     "output_type": "stream",
     "text": [
      "Epoch [4/5], Train Loss: 0.1800, Val Loss: 0.1740, Val Acc: 0.9561\n"
     ]
    },
    {
     "name": "stderr",
     "output_type": "stream",
     "text": [
      "100%|██████████| 52/52 [00:55<00:00,  1.07s/it]\n"
     ]
    },
    {
     "name": "stdout",
     "output_type": "stream",
     "text": [
      "Epoch [5/5], Train Loss: 0.1779, Val Loss: 0.3219, Val Acc: 0.8986\n"
     ]
    }
   ],
   "source": [
    "device = torch.device(\"cuda\" if torch.cuda.is_available() else \"cpu\")\n",
    "model.to(device)\n",
    "# I used CPU only because I don't have a GPU, but I left this here in case you do!\n",
    "\n",
    "num_epochs = (\n",
    "    5  # This took less than a minute on my CPU-only machine so you probably want more\n",
    ")\n",
    "\n",
    "for epoch in range(num_epochs):\n",
    "    # Training\n",
    "    model.train()\n",
    "    running_loss = 0.0\n",
    "    for batch_x, batch_y in tqdm(train_loader):\n",
    "        batch_x = batch_x.to(device)\n",
    "        batch_y = batch_y.to(device) \n",
    "\n",
    "        optimizer.zero_grad()\n",
    "        logits = model(batch_x)\n",
    "        loss = criterion(logits, batch_y)\n",
    "        loss.backward()\n",
    "        optimizer.step()\n",
    "\n",
    "        running_loss += loss.item() * batch_x.size(0)\n",
    "\n",
    "    epoch_loss = running_loss / len(train_loader.dataset)\n",
    "\n",
    "    # Validation\n",
    "    model.eval()\n",
    "    val_loss = 0.0\n",
    "    correct = 0\n",
    "    total = 0\n",
    "    with torch.no_grad():\n",
    "        for batch_x, batch_y in val_loader:\n",
    "            batch_x = batch_x.to(device)\n",
    "            batch_y = batch_y.to(device)\n",
    "\n",
    "            logits = model(batch_x)\n",
    "            loss = criterion(logits, batch_y)\n",
    "            val_loss += loss.item() * batch_x.size(0)\n",
    "\n",
    "            # predicted prob -> binary predictions\n",
    "            pred_prob = torch.sigmoid(logits)\n",
    "            preds = (pred_prob >= 0.5).float()\n",
    "            correct += (preds == batch_y).sum().item()\n",
    "            total += batch_y.size(0)\n",
    "\n",
    "    val_loss = val_loss / len(val_loader.dataset)\n",
    "    val_acc = correct / total\n",
    "\n",
    "    print(\n",
    "        f\"Epoch [{epoch + 1}/{num_epochs}], \"\n",
    "        f\"Train Loss: {epoch_loss:.4f}, \"\n",
    "        f\"Val Loss: {val_loss:.4f}, \"\n",
    "        f\"Val Acc: {val_acc:.4f}\"\n",
    "    )"
   ]
  },
  {
   "cell_type": "code",
   "execution_count": null,
   "metadata": {},
   "outputs": [
    {
     "name": "stdout",
     "output_type": "stream",
     "text": [
      "Test Loss: 0.6462, Test Accuracy: 0.8007\n"
     ]
    }
   ],
   "source": [
    "test_data = np.load(\"test_data.npz\")\n",
    "X_test = test_data[\"X\"]\n",
    "y_test = test_data[\"y\"]\n",
    "\n",
    "# Convert to tensors\n",
    "X_test_t = torch.tensor(X_test, dtype=torch.float32).to(device)\n",
    "y_test_t = torch.tensor(y_test, dtype=torch.float32).to(device)\n",
    "\n",
    "model.eval()\n",
    "with torch.no_grad():\n",
    "    logits = model(X_test_t)\n",
    "    test_loss = criterion(logits, y_test_t).item()\n",
    "\n",
    "    probs = torch.sigmoid(logits)\n",
    "    preds = (probs >= 0.5).float()\n",
    "    accuracy = (preds == y_test_t).sum().item() / len(y_test_t)\n",
    "\n",
    "print(f\"Test Loss: {test_loss:.4f}, Test Accuracy: {accuracy:.4f}\")"
   ]
  }
 ],
 "metadata": {
  "kernelspec": {
   "display_name": "Python 3",
   "language": "python",
   "name": "python3"
  },
  "language_info": {
   "codemirror_mode": {
    "name": "ipython",
    "version": 3
   },
   "file_extension": ".py",
   "mimetype": "text/x-python",
   "name": "python",
   "nbconvert_exporter": "python",
   "pygments_lexer": "ipython3",
   "version": "3.12.5"
  }
 },
 "nbformat": 4,
 "nbformat_minor": 2
}
